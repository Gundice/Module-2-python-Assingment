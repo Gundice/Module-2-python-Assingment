{
 "cells": [
  {
   "cell_type": "code",
   "execution_count": 6,
   "id": "afd68f3f-06b8-4323-a8c1-57a507a86d09",
   "metadata": {
    "tags": []
   },
   "outputs": [],
   "source": [
    "import pandas as pd\n",
    "\n"
   ]
  },
  {
   "cell_type": "code",
   "execution_count": null,
   "id": "ba29c119-441e-4322-80ec-7f99b053ef74",
   "metadata": {
    "tags": []
   },
   "outputs": [],
   "source": [
    "import pandas as pd\n",
    "import numpy as np\n",
    "import zipfile\n",
    "\n",
    "# Define the file path\n",
    "file_path = r\"C:\\Users\\Adeyemo Bolanle\\Downloads\\Total.csv\\Total.csv\"\n",
    "\n",
    "# Load the dataset into a DataFrame\n",
    "df = pd.read_csv(file_path)\n",
    "\n",
    "# Replace non-numeric values with NaN\n",
    "df['BasePay'] = pd.to_numeric(df['BasePay'], errors='coerce')\n",
    "df['OvertimePay'] = pd.to_numeric(df['OvertimePay'], errors='coerce')\n",
    "df['OtherPay'] = pd.to_numeric(df['OtherPay'], errors='coerce')\n",
    "df['Benefits'] = pd.to_numeric(df['Benefits'], errors='coerce')\n",
    "\n",
    "# Display the first few rows of the DataFrame\n",
    "print(df.head())"
   ]
  },
  {
   "cell_type": "code",
   "execution_count": 13,
   "id": "511cfa5b-cd26-4dfd-8a93-71358ee4f8af",
   "metadata": {
    "tags": []
   },
   "outputs": [
    {
     "name": "stdin",
     "output_type": "stream",
     "text": [
      "Enter the employee name:  david franklin\n"
     ]
    },
    {
     "name": "stdout",
     "output_type": "stream",
     "text": [
      "EmployeeName                            DAVID FRANKLIN\n",
      "JobTitle            BATTALION CHIEF, (FIRE DEPARTMENT)\n",
      "BasePay                                      174872.64\n",
      "OvertimePay                                    74050.3\n",
      "OtherPay                                      37424.11\n",
      "Benefits                                           NaN\n",
      "TotalPay                                     286347.05\n",
      "TotalPayBenefits                             286347.05\n",
      "Year                                              2011\n",
      "Name: 14, dtype: object\n"
     ]
    }
   ],
   "source": [
    "def check(df):\n",
    "    employee_name = input(\"Enter the employee name: \").upper()\n",
    "    found = False\n",
    "    for index, row in df.iterrows():\n",
    "        if row['EmployeeName'] == employee_name:\n",
    "            print(row)\n",
    "            found = True\n",
    "            break\n",
    "    if not found:\n",
    "        print(f\"{employee_name} not found\")\n",
    "check(df)"
   ]
  },
  {
   "cell_type": "code",
   "execution_count": 16,
   "id": "6437a590-e9da-463f-9d8e-e9ab47ba3b55",
   "metadata": {
    "tags": []
   },
   "outputs": [
    {
     "name": "stdout",
     "output_type": "stream",
     "text": [
      "{'JobTitle': 'GENERAL MANAGER-METROPOLITAN TRANSIT AUTHORITY', 'BasePay': 167411.18, 'OvertimePay': 0.0, 'OtherPay': 400184.25, 'Benefits': nan, 'TotalPay': 567595.43, 'TotalPayBenefits': 567595.43, 'Year': 2011}\n"
     ]
    }
   ],
   "source": [
    "def process_salary_data(df):\n",
    "    salary_dict = {}\n",
    "\n",
    "    for index, row in df.iterrows():\n",
    "        try:\n",
    "            employee_name = row['EmployeeName']\n",
    "            salary_info = {\n",
    "                'JobTitle': row['JobTitle'],\n",
    "                'BasePay': row['BasePay'],\n",
    "                'OvertimePay': row['OvertimePay'],\n",
    "                'OtherPay': row['OtherPay'],\n",
    "                'Benefits': row['Benefits'],\n",
    "                'TotalPay': row['TotalPay'],\n",
    "                'TotalPayBenefits': row['TotalPayBenefits'],\n",
    "                'Year': row['Year']\n",
    "            }\n",
    "            salary_dict[employee_name] = salary_info\n",
    "        except KeyError as e:\n",
    "            print(f\"Error processing data for {employee_name}: {e}\")\n",
    "\n",
    "    return salary_dict\n",
    "# Process the salary data and store it in a dictionary\n",
    "salary_data = process_salary_data(df)\n",
    "\n",
    "# Example: Print salary information for a specific employee\n",
    "employee_name = \"NATHANIEL FORD\"\n",
    "print(salary_data[employee_name])"
   ]
  },
  {
   "cell_type": "code",
   "execution_count": 19,
   "id": "42290495-8a8f-46e0-ac26-743097db6511",
   "metadata": {
    "tags": []
   },
   "outputs": [
    {
     "name": "stdout",
     "output_type": "stream",
     "text": [
      "Top 5 employee details exported to 'employee_profile.zip' successfully.\n"
     ]
    }
   ],
   "source": [
    "import zipfile\n",
    "def export_top_employee_details_to_zip(df, output_zip):\n",
    "    # Select the top 5 rows from the DataFrame\n",
    "    top_employee_details_df = df.head()\n",
    "\n",
    "    # Export the selected rows to a CSV file\n",
    "    csv_file_path = \"top_employee_details.csv\"\n",
    "    top_employee_details_df.to_csv(csv_file_path, index=False)\n",
    "\n",
    "    # Create a zip file and add the CSV file to it\n",
    "    with zipfile.ZipFile(output_zip, 'w') as zipf:\n",
    "        zipf.write(csv_file_path, arcname='top_employee_details.csv')\n",
    "\n",
    "    print(f\"Top 5 employee details exported to '{output_zip}' successfully.\")\n",
    "    \n",
    "# Specify the output zip file path\n",
    "output_zip_path = \"employee_profile.zip\"\n",
    "\n",
    "# Export the details of the top 5 employees to a zip file\n",
    "export_top_employee_details_to_zip(df, output_zip_path)\n"
   ]
  },
  {
   "cell_type": "code",
   "execution_count": null,
   "id": "01fb92ff-c62e-4701-9277-b3e2bcb838df",
   "metadata": {},
   "outputs": [],
   "source": []
  }
 ],
 "metadata": {
  "kernelspec": {
   "display_name": "Python 3 (ipykernel)",
   "language": "python",
   "name": "python3"
  },
  "language_info": {
   "codemirror_mode": {
    "name": "ipython",
    "version": 3
   },
   "file_extension": ".py",
   "mimetype": "text/x-python",
   "name": "python",
   "nbconvert_exporter": "python",
   "pygments_lexer": "ipython3",
   "version": "3.11.4"
  }
 },
 "nbformat": 4,
 "nbformat_minor": 5
}
